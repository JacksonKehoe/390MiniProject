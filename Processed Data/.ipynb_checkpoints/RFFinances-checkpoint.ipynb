{
 "cells": [
  {
   "cell_type": "code",
   "execution_count": 12,
   "metadata": {},
   "outputs": [
    {
     "data": {
      "text/html": [
       "<div>\n",
       "<style scoped>\n",
       "    .dataframe tbody tr th:only-of-type {\n",
       "        vertical-align: middle;\n",
       "    }\n",
       "\n",
       "    .dataframe tbody tr th {\n",
       "        vertical-align: top;\n",
       "    }\n",
       "\n",
       "    .dataframe thead th {\n",
       "        text-align: right;\n",
       "    }\n",
       "</style>\n",
       "<table border=\"1\" class=\"dataframe\">\n",
       "  <thead>\n",
       "    <tr style=\"text-align: right;\">\n",
       "      <th></th>\n",
       "      <th>Last Sale</th>\n",
       "      <th>Net Change</th>\n",
       "      <th>% Change</th>\n",
       "      <th>Market Cap</th>\n",
       "      <th>Volume</th>\n",
       "      <th>52 wk high</th>\n",
       "      <th>52 wk low</th>\n",
       "      <th>beta</th>\n",
       "      <th>P/E</th>\n",
       "      <th>Avg Volume</th>\n",
       "      <th>over/under</th>\n",
       "      <th>cluster</th>\n",
       "    </tr>\n",
       "    <tr>\n",
       "      <th>Ticker</th>\n",
       "      <th></th>\n",
       "      <th></th>\n",
       "      <th></th>\n",
       "      <th></th>\n",
       "      <th></th>\n",
       "      <th></th>\n",
       "      <th></th>\n",
       "      <th></th>\n",
       "      <th></th>\n",
       "      <th></th>\n",
       "      <th></th>\n",
       "      <th></th>\n",
       "    </tr>\n",
       "  </thead>\n",
       "  <tbody>\n",
       "    <tr>\n",
       "      <th>ABM</th>\n",
       "      <td>43.33</td>\n",
       "      <td>-0.700</td>\n",
       "      <td>-0.0159</td>\n",
       "      <td>2.906510e+09</td>\n",
       "      <td>58808</td>\n",
       "      <td>45.24</td>\n",
       "      <td>19.79</td>\n",
       "      <td>1.36</td>\n",
       "      <td>14824.91</td>\n",
       "      <td>301238</td>\n",
       "      <td>0</td>\n",
       "      <td>2</td>\n",
       "    </tr>\n",
       "    <tr>\n",
       "      <th>AC</th>\n",
       "      <td>36.78</td>\n",
       "      <td>-0.740</td>\n",
       "      <td>-0.0197</td>\n",
       "      <td>8.203833e+08</td>\n",
       "      <td>12335</td>\n",
       "      <td>45.22</td>\n",
       "      <td>24.19</td>\n",
       "      <td>1.34</td>\n",
       "      <td>43.49</td>\n",
       "      <td>13253</td>\n",
       "      <td>0</td>\n",
       "      <td>0</td>\n",
       "    </tr>\n",
       "    <tr>\n",
       "      <th>AEB</th>\n",
       "      <td>24.96</td>\n",
       "      <td>0.130</td>\n",
       "      <td>0.0052</td>\n",
       "      <td>0.000000e+00</td>\n",
       "      <td>5983</td>\n",
       "      <td>25.44</td>\n",
       "      <td>11.51</td>\n",
       "      <td>1.88</td>\n",
       "      <td>0.00</td>\n",
       "      <td>18079</td>\n",
       "      <td>0</td>\n",
       "      <td>0</td>\n",
       "    </tr>\n",
       "    <tr>\n",
       "      <th>AEG</th>\n",
       "      <td>4.89</td>\n",
       "      <td>0.025</td>\n",
       "      <td>0.0051</td>\n",
       "      <td>9.909317e+09</td>\n",
       "      <td>1238486</td>\n",
       "      <td>4.94</td>\n",
       "      <td>1.80</td>\n",
       "      <td>1.42</td>\n",
       "      <td>0.00</td>\n",
       "      <td>2487658</td>\n",
       "      <td>0</td>\n",
       "      <td>0</td>\n",
       "    </tr>\n",
       "    <tr>\n",
       "      <th>AEL</th>\n",
       "      <td>28.25</td>\n",
       "      <td>0.150</td>\n",
       "      <td>0.0053</td>\n",
       "      <td>2.704108e+09</td>\n",
       "      <td>142866</td>\n",
       "      <td>34.25</td>\n",
       "      <td>9.07</td>\n",
       "      <td>1.24</td>\n",
       "      <td>4.06</td>\n",
       "      <td>742648</td>\n",
       "      <td>0</td>\n",
       "      <td>0</td>\n",
       "    </tr>\n",
       "    <tr>\n",
       "      <th>...</th>\n",
       "      <td>...</td>\n",
       "      <td>...</td>\n",
       "      <td>...</td>\n",
       "      <td>...</td>\n",
       "      <td>...</td>\n",
       "      <td>...</td>\n",
       "      <td>...</td>\n",
       "      <td>...</td>\n",
       "      <td>...</td>\n",
       "      <td>...</td>\n",
       "      <td>...</td>\n",
       "      <td>...</td>\n",
       "    </tr>\n",
       "    <tr>\n",
       "      <th>WF</th>\n",
       "      <td>26.09</td>\n",
       "      <td>0.400</td>\n",
       "      <td>0.0156</td>\n",
       "      <td>6.281321e+09</td>\n",
       "      <td>6318</td>\n",
       "      <td>28.50</td>\n",
       "      <td>15.54</td>\n",
       "      <td>0.61</td>\n",
       "      <td>5.48</td>\n",
       "      <td>21994</td>\n",
       "      <td>0</td>\n",
       "      <td>0</td>\n",
       "    </tr>\n",
       "    <tr>\n",
       "      <th>WHG</th>\n",
       "      <td>17.56</td>\n",
       "      <td>0.010</td>\n",
       "      <td>0.0006</td>\n",
       "      <td>1.462212e+08</td>\n",
       "      <td>12569</td>\n",
       "      <td>26.90</td>\n",
       "      <td>9.42</td>\n",
       "      <td>1.55</td>\n",
       "      <td>0.00</td>\n",
       "      <td>42795</td>\n",
       "      <td>1</td>\n",
       "      <td>3</td>\n",
       "    </tr>\n",
       "    <tr>\n",
       "      <th>WRB</th>\n",
       "      <td>70.97</td>\n",
       "      <td>0.835</td>\n",
       "      <td>0.0119</td>\n",
       "      <td>1.258648e+10</td>\n",
       "      <td>293918</td>\n",
       "      <td>72.25</td>\n",
       "      <td>43.05</td>\n",
       "      <td>0.82</td>\n",
       "      <td>24.71</td>\n",
       "      <td>818005</td>\n",
       "      <td>1</td>\n",
       "      <td>3</td>\n",
       "    </tr>\n",
       "    <tr>\n",
       "      <th>Y</th>\n",
       "      <td>644.00</td>\n",
       "      <td>-8.510</td>\n",
       "      <td>-0.0130</td>\n",
       "      <td>9.011272e+09</td>\n",
       "      <td>23083</td>\n",
       "      <td>727.72</td>\n",
       "      <td>426.87</td>\n",
       "      <td>0.66</td>\n",
       "      <td>96.18</td>\n",
       "      <td>64471</td>\n",
       "      <td>0</td>\n",
       "      <td>6</td>\n",
       "    </tr>\n",
       "    <tr>\n",
       "      <th>YRD</th>\n",
       "      <td>5.04</td>\n",
       "      <td>-0.180</td>\n",
       "      <td>-0.0345</td>\n",
       "      <td>4.677448e+08</td>\n",
       "      <td>72113</td>\n",
       "      <td>6.80</td>\n",
       "      <td>2.70</td>\n",
       "      <td>0.76</td>\n",
       "      <td>12.30</td>\n",
       "      <td>490685</td>\n",
       "      <td>0</td>\n",
       "      <td>0</td>\n",
       "    </tr>\n",
       "  </tbody>\n",
       "</table>\n",
       "<p>224 rows × 12 columns</p>\n",
       "</div>"
      ],
      "text/plain": [
       "        Last Sale  Net Change  % Change    Market Cap   Volume  52 wk high  \\\n",
       "Ticker                                                                       \n",
       "ABM         43.33      -0.700   -0.0159  2.906510e+09    58808       45.24   \n",
       "AC          36.78      -0.740   -0.0197  8.203833e+08    12335       45.22   \n",
       "AEB         24.96       0.130    0.0052  0.000000e+00     5983       25.44   \n",
       "AEG          4.89       0.025    0.0051  9.909317e+09  1238486        4.94   \n",
       "AEL         28.25       0.150    0.0053  2.704108e+09   142866       34.25   \n",
       "...           ...         ...       ...           ...      ...         ...   \n",
       "WF          26.09       0.400    0.0156  6.281321e+09     6318       28.50   \n",
       "WHG         17.56       0.010    0.0006  1.462212e+08    12569       26.90   \n",
       "WRB         70.97       0.835    0.0119  1.258648e+10   293918       72.25   \n",
       "Y          644.00      -8.510   -0.0130  9.011272e+09    23083      727.72   \n",
       "YRD          5.04      -0.180   -0.0345  4.677448e+08    72113        6.80   \n",
       "\n",
       "        52 wk low  beta       P/E  Avg Volume  over/under  cluster  \n",
       "Ticker                                                              \n",
       "ABM         19.79  1.36  14824.91      301238           0        2  \n",
       "AC          24.19  1.34     43.49       13253           0        0  \n",
       "AEB         11.51  1.88      0.00       18079           0        0  \n",
       "AEG          1.80  1.42      0.00     2487658           0        0  \n",
       "AEL          9.07  1.24      4.06      742648           0        0  \n",
       "...           ...   ...       ...         ...         ...      ...  \n",
       "WF          15.54  0.61      5.48       21994           0        0  \n",
       "WHG          9.42  1.55      0.00       42795           1        3  \n",
       "WRB         43.05  0.82     24.71      818005           1        3  \n",
       "Y          426.87  0.66     96.18       64471           0        6  \n",
       "YRD          2.70  0.76     12.30      490685           0        0  \n",
       "\n",
       "[224 rows x 12 columns]"
      ]
     },
     "metadata": {},
     "output_type": "display_data"
    }
   ],
   "source": [
    "# Pandas is used for data manipulation\n",
    "import pandas as pd\n",
    "\n",
    "# Read in data and display first 5 rows\n",
    "features = pd.read_csv(\"../Processed Data/Clusters.csv\")\n",
    "columns = features.columns\n",
    "features.set_index('Ticker', inplace=True)\n",
    "display(features)"
   ]
  },
  {
   "cell_type": "code",
   "execution_count": 13,
   "metadata": {},
   "outputs": [
    {
     "data": {
      "text/plain": [
       "0    118\n",
       "3     77\n",
       "1     13\n",
       "4     12\n",
       "2      2\n",
       "6      1\n",
       "5      1\n",
       "Name: cluster, dtype: int64"
      ]
     },
     "execution_count": 13,
     "metadata": {},
     "output_type": "execute_result"
    }
   ],
   "source": [
    "features['cluster'].value_counts()"
   ]
  },
  {
   "cell_type": "code",
   "execution_count": 14,
   "metadata": {},
   "outputs": [],
   "source": [
    "counts = features['cluster'].value_counts()"
   ]
  },
  {
   "cell_type": "code",
   "execution_count": 15,
   "metadata": {},
   "outputs": [],
   "source": [
    "#dropping clusters with less than 10 stocks(almost noise data)\n",
    "features_dupl = features;\n",
    "for index, feature in features_dupl.iterrows():\n",
    "    if counts[feature['cluster']] < 10:\n",
    "        features = features.drop([index])"
   ]
  },
  {
   "cell_type": "code",
   "execution_count": 16,
   "metadata": {},
   "outputs": [
    {
     "data": {
      "text/plain": [
       "0    118\n",
       "3     77\n",
       "1     13\n",
       "4     12\n",
       "Name: cluster, dtype: int64"
      ]
     },
     "execution_count": 16,
     "metadata": {},
     "output_type": "execute_result"
    }
   ],
   "source": [
    "features['cluster'].value_counts()"
   ]
  },
  {
   "cell_type": "code",
   "execution_count": 17,
   "metadata": {},
   "outputs": [],
   "source": [
    "import numpy as np\n",
    "labels = np.array(features['cluster'])\n",
    "features= features.drop('cluster', axis = 1)\n",
    "feature_list = list(features.columns)\n",
    "features = np.array(features)"
   ]
  },
  {
   "cell_type": "code",
   "execution_count": 18,
   "metadata": {},
   "outputs": [],
   "source": [
    "from sklearn.model_selection import train_test_split\n",
    "train_features, test_features, train_labels, test_labels = train_test_split(features, labels, test_size = 0.25, random_state = 42)"
   ]
  },
  {
   "cell_type": "code",
   "execution_count": 19,
   "metadata": {},
   "outputs": [
    {
     "name": "stdout",
     "output_type": "stream",
     "text": [
      "Training Features Shape: (165, 11)\n",
      "Training Labels Shape: (165,)\n",
      "Testing Features Shape: (55, 11)\n",
      "Testing Labels Shape: (55,)\n"
     ]
    }
   ],
   "source": [
    "print('Training Features Shape:', train_features.shape)\n",
    "print('Training Labels Shape:', train_labels.shape)\n",
    "print('Testing Features Shape:', test_features.shape)\n",
    "print('Testing Labels Shape:', test_labels.shape)"
   ]
  },
  {
   "cell_type": "code",
   "execution_count": 20,
   "metadata": {},
   "outputs": [],
   "source": [
    "from sklearn.ensemble import RandomForestClassifier\n",
    "rf = RandomForestClassifier(n_estimators = 1000, random_state = 42)\n",
    "rf.fit(train_features, train_labels);"
   ]
  },
  {
   "cell_type": "code",
   "execution_count": 21,
   "metadata": {},
   "outputs": [
    {
     "data": {
      "text/plain": [
       "array([[30,  0,  0,  0],\n",
       "       [ 0,  3,  1,  0],\n",
       "       [ 0,  0, 19,  0],\n",
       "       [ 0,  0,  0,  2]], dtype=int64)"
      ]
     },
     "execution_count": 21,
     "metadata": {},
     "output_type": "execute_result"
    }
   ],
   "source": [
    "from sklearn.metrics import confusion_matrix\n",
    "\n",
    "test_pred = rf.predict(test_features)\n",
    "confusion_matrix(test_labels, test_pred)"
   ]
  },
  {
   "cell_type": "code",
   "execution_count": 22,
   "metadata": {},
   "outputs": [
    {
     "name": "stdout",
     "output_type": "stream",
     "text": [
      "[0 3 0 0 3 0 0 0 0 0 0 0 0 3 4 3 0 0 3 0 3 0 3 0 0 0 3 0 0 4 3 3 0 0 0 1 3\n",
      " 3 0 3 0 0 1 3 3 3 3 3 1 0 0 3 0 1 0]\n"
     ]
    }
   ],
   "source": [
    "print(test_labels)"
   ]
  },
  {
   "cell_type": "code",
   "execution_count": 23,
   "metadata": {},
   "outputs": [
    {
     "data": {
      "text/plain": [
       "0.9818181818181818"
      ]
     },
     "execution_count": 23,
     "metadata": {},
     "output_type": "execute_result"
    }
   ],
   "source": [
    "from sklearn.metrics import accuracy_score\n",
    "accuracy_score(test_labels, test_pred)"
   ]
  },
  {
   "cell_type": "code",
   "execution_count": 24,
   "metadata": {},
   "outputs": [],
   "source": [
    "#Identify feature importance\n",
    "importances = rf.feature_importances_"
   ]
  },
  {
   "cell_type": "code",
   "execution_count": 25,
   "metadata": {},
   "outputs": [
    {
     "name": "stdout",
     "output_type": "stream",
     "text": [
      "[0.03238954 0.03911087 0.02562602 0.07429556 0.08933142 0.02843231\n",
      " 0.03206389 0.02633558 0.03539319 0.08508063 0.531941  ]\n"
     ]
    }
   ],
   "source": [
    "print(importances)"
   ]
  },
  {
   "cell_type": "code",
   "execution_count": 26,
   "metadata": {},
   "outputs": [
    {
     "name": "stdout",
     "output_type": "stream",
     "text": [
      "Index(['Ticker', 'Last Sale', 'Net Change', '% Change', 'Market Cap', 'Volume',\n",
      "       '52 wk high', '52 wk low', 'beta', 'P/E', 'Avg Volume', 'over/under',\n",
      "       'cluster'],\n",
      "      dtype='object')\n"
     ]
    }
   ],
   "source": [
    "print(columns)\n",
    "#columns will line up with importance above - Ticker column"
   ]
  },
  {
   "cell_type": "code",
   "execution_count": null,
   "metadata": {},
   "outputs": [],
   "source": []
  }
 ],
 "metadata": {
  "kernelspec": {
   "display_name": "Python 3",
   "language": "python",
   "name": "python3"
  },
  "language_info": {
   "codemirror_mode": {
    "name": "ipython",
    "version": 3
   },
   "file_extension": ".py",
   "mimetype": "text/x-python",
   "name": "python",
   "nbconvert_exporter": "python",
   "pygments_lexer": "ipython3",
   "version": "3.8.5"
  }
 },
 "nbformat": 4,
 "nbformat_minor": 4
}
