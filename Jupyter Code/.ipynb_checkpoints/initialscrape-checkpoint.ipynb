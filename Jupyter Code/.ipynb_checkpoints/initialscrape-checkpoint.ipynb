{
 "cells": [
  {
   "cell_type": "code",
   "execution_count": null,
   "metadata": {},
   "outputs": [],
   "source": [
    "import pandas as pd\n",
    "import numpy as np\n",
    "from bs4 import BeautifulSoup as soup\n",
    "from urllib.request import Request, urlopen\n",
    "\n",
    "\n",
    "#ticker\n",
    "\n",
    "userticker = input('Enter any ticker: ')\n",
    "ticker = 'aapl'\n",
    "#url\n",
    "\n",
    "urlStart = 'https://finviz.com/quote.ashx?t='\n",
    "urlEnd = '&ty=c&ta=1&p=d'\n",
    "URL = urlStart + userticker.lower()\n",
    "\n",
    "#web request and info collection\n",
    "headers = {'User-Agent': 'Mozilla/5.0'}\n",
    "request = Request(URL, headers=headers) #note that urllib is needed to add a user header for user validation)\n",
    "web = urlopen(request).read()\n",
    "#storing the info in two formsnmb\n",
    "html = soup(web, \"html.parser\")\n",
    "xml = soup(web, \"xml\")\n",
    "\n",
    "#reading values into a table\n",
    "#print(xml)\n",
    "tableStart = pd.read_html(str(html), attrs = {'class': 'snapshot-table2'})[0]\n",
    "#tableStart.to_excel(r'C:\\Testing\\bitch.xlsx', index = False) #did testing with appl, use whichever path and file name you want, or comment this line out\n",
    "\n",
    "print(tableStart)"
   ]
  }
 ],
 "metadata": {
  "kernelspec": {
   "display_name": "Python 3",
   "language": "python",
   "name": "python3"
  },
  "language_info": {
   "codemirror_mode": {
    "name": "ipython",
    "version": 3
   },
   "file_extension": ".py",
   "mimetype": "text/x-python",
   "name": "python",
   "nbconvert_exporter": "python",
   "pygments_lexer": "ipython3",
   "version": "3.8.5"
  }
 },
 "nbformat": 4,
 "nbformat_minor": 4
}
