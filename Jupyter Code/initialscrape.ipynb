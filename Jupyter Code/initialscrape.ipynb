{
 "cells": [
  {
   "cell_type": "code",
   "execution_count": 1,
   "metadata": {},
   "outputs": [
    {
     "name": "stdin",
     "output_type": "stream",
     "text": [
      "Enter any ticker:  GME\n"
     ]
    },
    {
     "name": "stdout",
     "output_type": "stream",
     "text": [
      "            0         1              2       3              4           5   \\\n",
      "0        Index         -            P/E       -      EPS (ttm)       -4.18   \n",
      "1   Market Cap     7.58B    Forward P/E       -     EPS next Y       -0.21   \n",
      "2       Income  -270.00M            PEG       -     EPS next Q        1.36   \n",
      "3        Sales     5.16B            P/S    1.47     EPS this Y      33.70%   \n",
      "4      Book/sh      5.10            P/B   19.95     EPS next Y      90.30%   \n",
      "5      Cash/sh      5.98            P/C   17.01    EPS next 5Y           -   \n",
      "6     Dividend         -          P/FCF   50.83    EPS past 5Y     -28.70%   \n",
      "7   Dividend %         -    Quick Ratio    0.50  Sales past 5Y      -7.00%   \n",
      "8    Employees     14000  Current Ratio    1.00      Sales Q/Q     -30.20%   \n",
      "9   Optionable       Yes        Debt/Eq    1.46        EPS Q/Q      71.50%   \n",
      "10   Shortable       Yes     LT Debt/Eq    0.65       Earnings  Dec 08 AMC   \n",
      "11       Recom      3.50          SMA20  14.54%          SMA50      69.81%   \n",
      "\n",
      "               6        7             8              9             10  \\\n",
      "0     Insider Own    0.50%  Shs Outstand         65.20M     Perf Week   \n",
      "1   Insider Trans        -     Shs Float         54.17M    Perf Month   \n",
      "2        Inst Own   95.00%   Short Float         30.40%  Perf Quarter   \n",
      "3      Inst Trans   -8.22%   Short Ratio           0.43   Perf Half Y   \n",
      "4             ROA  -10.70%  Target Price              -     Perf Year   \n",
      "5             ROE  -63.50%     52W Range  2.57 - 483.00      Perf YTD   \n",
      "6             ROI  -42.40%      52W High        -78.94%          Beta   \n",
      "7    Gross Margin   27.30%       52W Low       3858.75%           ATR   \n",
      "8    Oper. Margin   -3.50%      RSI (14)          55.01    Volatility   \n",
      "9   Profit Margin   -5.30%    Rel Volume           2.43    Prev Close   \n",
      "10         Payout        -    Avg Volume         38.48M         Price   \n",
      "11         SMA200  386.89%        Volume       92194152        Change   \n",
      "\n",
      "               11  \n",
      "0         150.65%  \n",
      "1         -70.72%  \n",
      "2         644.26%  \n",
      "3        1891.00%  \n",
      "4        2831.99%  \n",
      "5         440.02%  \n",
      "6           -2.10  \n",
      "7           52.90  \n",
      "8   56.83% 57.43%  \n",
      "9          108.73  \n",
      "10         101.74  \n",
      "11         -6.43%  \n"
     ]
    }
   ],
   "source": [
    "import pandas as pd\n",
    "import numpy as np\n",
    "from bs4 import BeautifulSoup as soup\n",
    "from urllib.request import Request, urlopen\n",
    "\n",
    "\n",
    "#ticker\n",
    "\n",
    "userticker = input('Enter any ticker: ')\n",
    "ticker = 'aapl'\n",
    "#url\n",
    "\n",
    "urlStart = 'https://finviz.com/quote.ashx?t='\n",
    "urlEnd = '&ty=c&ta=1&p=d'\n",
    "URL = urlStart + userticker.lower()\n",
    "\n",
    "#web request and info collection\n",
    "headers = {'User-Agent': 'Mozilla/5.0'}\n",
    "request = Request(URL, headers=headers) #note that urllib is needed to add a user header for user validation)\n",
    "web = urlopen(request).read()\n",
    "#storing the info in two formsnmb\n",
    "html = soup(web, \"html.parser\")\n",
    "xml = soup(web, \"xml\")\n",
    "\n",
    "#reading values into a table\n",
    "#print(xml)\n",
    "tableStart = pd.read_html(str(html), attrs = {'class': 'snapshot-table2'})[0]\n",
    "#tableStart.to_excel(r'C:\\Testing\\bitch.xlsx', index = False) #did testing with appl, use whichever path and file name you want, or comment this line out\n",
    "\n",
    "print(tableStart)"
   ]
  },
  {
   "cell_type": "code",
   "execution_count": null,
   "metadata": {},
   "outputs": [],
   "source": []
  }
 ],
 "metadata": {
  "kernelspec": {
   "display_name": "Python 3",
   "language": "python",
   "name": "python3"
  },
  "language_info": {
   "codemirror_mode": {
    "name": "ipython",
    "version": 3
   },
   "file_extension": ".py",
   "mimetype": "text/x-python",
   "name": "python",
   "nbconvert_exporter": "python",
   "pygments_lexer": "ipython3",
   "version": "3.8.5"
  }
 },
 "nbformat": 4,
 "nbformat_minor": 4
}
